{
 "cells": [
  {
   "cell_type": "markdown",
   "metadata": {},
   "source": [
    "# A Quick Introduction to TensorFlow 2.0 for Deep Learning\n",
    "## https://towardsdatascience.com/a-quick-introduction-to-tensorflow-2-0-for-deep-learning-e740ca2e974c\n",
    "## by George Seif, Oct 24, 2019\n",
    "### Google Colab Notebook can be found at: https://colab.research.google.com/drive/1KRi0k5XTJoKEuRGOMRy3xhaUU_txNCYm"
   ]
  },
  {
   "cell_type": "markdown",
   "metadata": {},
   "source": [
    "### YP 200330"
   ]
  },
  {
   "cell_type": "code",
   "execution_count": null,
   "metadata": {},
   "outputs": [],
   "source": [
    "import tensorflow as tf\n",
    "from tensorflow.keras import datasets, layers, models, optimizers\n",
    "import matplotlib.pyplot as plt\n",
    "\n",
    "if tf.__version__ < \"2.0.0\":\n",
    "  !pip install --upgrade tensorflow_gpu==2.0"
   ]
  },
  {
   "cell_type": "markdown",
   "metadata": {},
   "source": [
    "## Loading data and visualisation\n",
    "### MNIST dataset contains\n",
    "    * 60,000 training images\n",
    "    * 10,000 test images\n",
    "    * digits from 0 to 9\n",
    "    * size 28x28"
   ]
  },
  {
   "cell_type": "code",
   "execution_count": null,
   "metadata": {},
   "outputs": [],
   "source": [
    "(train_images, train_labels), (test_images, test_labels) = datasets.mnist.load_data()\n",
    "\n",
    "class_names = ['zero', 'one', 'two', 'three', 'four', 'five',\n",
    "               'six', 'seven', 'eight', 'nine']\n",
    "\n",
    "plt.figure(figsize=(10,10))\n",
    "for i in range(16):\n",
    "    plt.subplot(4, 4, i+1)\n",
    "    plt.xticks([])\n",
    "    plt.yticks([])\n",
    "    plt.imshow(train_images[i], cmap=plt.cm.binary)\n",
    "    plt.xlabel(class_names[train_labels[i]])\n",
    "plt.show()"
   ]
  },
  {
   "cell_type": "markdown",
   "metadata": {},
   "source": [
    "## Model Definition"
   ]
  },
  {
   "cell_type": "code",
   "execution_count": null,
   "metadata": {},
   "outputs": [],
   "source": [
    "IMG_SIZE = (28, 28, 1)\n",
    "input_img = layers.Input(shape=IMG_SIZE)\n",
    "\n",
    "model = layers.Conv2D(32, (3, 3), padding='same')(input_img)\n",
    "model = layers.Activation('relu')(model)\n",
    "model = layers.Conv2D(32, (3, 3), padding='same', strides=(2, 2))(model)\n",
    "model = layers.Activation('relu')(model)\n",
    "\n",
    "model = layers.Conv2D(64, (3, 3), padding='same')(model)\n",
    "model = layers.Activation('relu')(model)\n",
    "model = layers.Conv2D(64, (3, 3), padding='same', strides=(2, 2))(model)\n",
    "model = layers.Activation('relu')(model)\n",
    "\n",
    "model = layers.Conv2D(64, (3, 3), padding='same')(model)\n",
    "model = layers.Activation('relu')(model)\n",
    "model = layers.Conv2D(64, (3, 3), padding='same')(model)\n",
    "model = layers.Activation('relu')(model)\n",
    "\n",
    "model = layers.GlobalAveragePooling2D()(model)\n",
    "model = layers.Dense(32)(model)\n",
    "model = layers.Activation('relu')(model)\n",
    "model = layers.Dense(10)(model)\n",
    "output_img = layers.Activation('softmax')(model)\n",
    "\n",
    "model = models.Model(input_img, output_img)\n",
    "\n",
    "model.summary()"
   ]
  },
  {
   "cell_type": "markdown",
   "metadata": {},
   "source": [
    "## Training and Testing"
   ]
  },
  {
   "cell_type": "code",
   "execution_count": null,
   "metadata": {},
   "outputs": [],
   "source": [
    "train_images = train_images.reshape(60000, 28, 28, 1).astype('float32') / 255.0\n",
    "test_images = test_images.reshape(10000, 28, 28, 1).astype('float32') / 255.0\n",
    "\n",
    "train_labels = tf.keras.utils.to_categorical(train_labels, 10)\n",
    "test_labels = tf.keras.utils.to_categorical(test_labels, 10)"
   ]
  },
  {
   "cell_type": "code",
   "execution_count": null,
   "metadata": {},
   "outputs": [],
   "source": [
    "adam = optimizers.Adam(lr=0.0001)\n",
    "model.compile(adam, loss='categorical_crossentropy', metrics=[\"accuracy\"])\n",
    "\n",
    "history = model.fit(train_images, train_labels, epochs=10, \n",
    "                    validation_data=(test_images, test_labels))"
   ]
  },
  {
   "cell_type": "code",
   "execution_count": null,
   "metadata": {},
   "outputs": [],
   "source": [
    "plt.plot(history.history['accuracy'], label='accuracy')\n",
    "plt.plot(history.history['val_accuracy'], label='val_accuracy')\n",
    "plt.xlabel('Epoch')\n",
    "plt.ylabel('Accuracy')\n",
    "plt.ylim([0.7, 1])\n",
    "plt.legend(loc='best')"
   ]
  },
  {
   "cell_type": "code",
   "execution_count": null,
   "metadata": {},
   "outputs": [],
   "source": [
    "plt.plot(history.history['loss'], label='loss')\n",
    "plt.plot(history.history['val_loss'], label='val_loss')\n",
    "plt.xlabel('Epoch')\n",
    "plt.ylabel('Loss')\n",
    "plt.legend(loc='best')"
   ]
  },
  {
   "cell_type": "code",
   "execution_count": null,
   "metadata": {},
   "outputs": [],
   "source": [
    "test_loss, test_accuracy = model.evaluate(test_images,  test_labels, verbose=2)\n",
    "\n",
    "print('\\nTest accuracy = {0:.2f}%'.format(test_accuracy*100.0))"
   ]
  },
  {
   "cell_type": "markdown",
   "metadata": {},
   "source": []
  }
 ],
 "metadata": {
  "kernelspec": {
   "display_name": "YP: TensorFlow-GPU",
   "language": "python",
   "name": "yp-tfgpu"
  },
  "language_info": {
   "codemirror_mode": {
    "name": "ipython",
    "version": 3
   },
   "file_extension": ".py",
   "mimetype": "text/x-python",
   "name": "python",
   "nbconvert_exporter": "python",
   "pygments_lexer": "ipython3",
   "version": "3.7.6"
  }
 },
 "nbformat": 4,
 "nbformat_minor": 4
}
