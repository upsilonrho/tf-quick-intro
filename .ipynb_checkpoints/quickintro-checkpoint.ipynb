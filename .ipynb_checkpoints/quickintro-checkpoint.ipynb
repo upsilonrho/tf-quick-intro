{
 "cells": [
  {
   "cell_type": "markdown",
   "metadata": {},
   "source": [
    "# A Quick Introduction to TensorFlow 2.0 for Deep Learning\n",
    "## https://towardsdatascience.com/a-quick-introduction-to-tensorflow-2-0-for-deep-learning-e740ca2e974c\n",
    "## by George Seif, Oct 24, 2019\n",
    "### Google Colab Notebook can be found at: https://colab.research.google.com/drive/1KRi0k5XTJoKEuRGOMRy3xhaUU_txNCYm"
   ]
  },
  {
   "cell_type": "markdown",
   "metadata": {},
   "source": [
    "### YP 200330"
   ]
  },
  {
   "cell_type": "code",
   "execution_count": 45,
   "metadata": {},
   "outputs": [],
   "source": [
    "import tensorflow as tf\n",
    "from tensorflow.keras import datasets, layers, models, optimizers\n",
    "import matplotlib.pyplot as plt\n",
    "\n",
    "if tf.__version__ < \"2.0.0\":\n",
    "  !pip install --upgrade tensorflow_gpu==2.0"
   ]
  },
  {
   "cell_type": "markdown",
   "metadata": {},
   "source": [
    "## Loading data and visualisation"
   ]
  },
  {
   "cell_type": "code",
   "execution_count": 43,
   "metadata": {},
   "outputs": [
    {
     "data": {
      "image/png": "[encoded data removed]",
      "text/plain": [
       "<Figure size 720x720 with 16 Axes>"
      ]
     },
     "metadata": {},
     "output_type": "display_data"
    }
   ],
   "source": [
    "(train_images, train_labels), (test_images, test_labels) = datasets.mnist.load_data()\n",
    "\n",
    "class_names = ['zero', 'one', 'two', 'three', 'four', 'five',\n",
    "               'six', 'seven', 'eight', 'nine']\n",
    "\n",
    "plt.figure(figsize=(10,10))\n",
    "for i in range(16):\n",
    "    plt.subplot(4, 4, i+1)\n",
    "    plt.xticks([])\n",
    "    plt.yticks([])\n",
    "    plt.imshow(train_images[i], cmap=plt.cm.binary)\n",
    "    plt.xlabel(class_names[train_labels[i]])\n",
    "plt.show()"
   ]
  },
  {
   "cell_type": "markdown",
   "metadata": {},
   "source": [
    "## Model Definition"
   ]
  },
  {
   "cell_type": "code",
   "execution_count": 42,
   "metadata": {},
   "outputs": [
    {
     "name": "stdout",
     "output_type": "stream",
     "text": [
      "Model: \"model_3\"\n",
      "_________________________________________________________________\n",
      "Layer (type)                 Output Shape              Param #   \n",
      "=================================================================\n",
      "input_4 (InputLayer)         [(None, 28, 28, 1)]       0         \n",
      "_________________________________________________________________\n",
      "conv2d_18 (Conv2D)           (None, 28, 28, 32)        320       \n",
      "_________________________________________________________________\n",
      "activation_24 (Activation)   (None, 28, 28, 32)        0         \n",
      "_________________________________________________________________\n",
      "conv2d_19 (Conv2D)           (None, 14, 14, 32)        9248      \n",
      "_________________________________________________________________\n",
      "activation_25 (Activation)   (None, 14, 14, 32)        0         \n",
      "_________________________________________________________________\n",
      "conv2d_20 (Conv2D)           (None, 14, 14, 64)        18496     \n",
      "_________________________________________________________________\n",
      "activation_26 (Activation)   (None, 14, 14, 64)        0         \n",
      "_________________________________________________________________\n",
      "conv2d_21 (Conv2D)           (None, 7, 7, 64)          36928     \n",
      "_________________________________________________________________\n",
      "activation_27 (Activation)   (None, 7, 7, 64)          0         \n",
      "_________________________________________________________________\n",
      "conv2d_22 (Conv2D)           (None, 7, 7, 64)          36928     \n",
      "_________________________________________________________________\n",
      "activation_28 (Activation)   (None, 7, 7, 64)          0         \n",
      "_________________________________________________________________\n",
      "conv2d_23 (Conv2D)           (None, 7, 7, 64)          36928     \n",
      "_________________________________________________________________\n",
      "activation_29 (Activation)   (None, 7, 7, 64)          0         \n",
      "_________________________________________________________________\n",
      "global_average_pooling2d_3 ( (None, 64)                0         \n",
      "_________________________________________________________________\n",
      "dense_6 (Dense)              (None, 32)                2080      \n",
      "_________________________________________________________________\n",
      "activation_30 (Activation)   (None, 32)                0         \n",
      "_________________________________________________________________\n",
      "dense_7 (Dense)              (None, 10)                330       \n",
      "_________________________________________________________________\n",
      "activation_31 (Activation)   (None, 10)                0         \n",
      "=================================================================\n",
      "Total params: 141,258\n",
      "Trainable params: 141,258\n",
      "Non-trainable params: 0\n",
      "_________________________________________________________________\n"
     ]
    }
   ],
   "source": [
    "IMG_SIZE = (28, 28, 1)\n",
    "input_img = layers.Input(shape=IMG_SIZE)\n",
    "\n",
    "model = layers.Conv2D(32, (3, 3), padding='same')(input_img)\n",
    "model = layers.Activation('relu')(model)\n",
    "model = layers.Conv2D(32, (3, 3), padding='same', strides=(2, 2))(model)\n",
    "model = layers.Activation('relu')(model)\n",
    "\n",
    "model = layers.Conv2D(64, (3, 3), padding='same')(model)\n",
    "model = layers.Activation('relu')(model)\n",
    "model = layers.Conv2D(64, (3, 3), padding='same', strides=(2, 2))(model)\n",
    "model = layers.Activation('relu')(model)\n",
    "\n",
    "model = layers.Conv2D(64, (3, 3), padding='same')(model)\n",
    "model = layers.Activation('relu')(model)\n",
    "model = layers.Conv2D(64, (3, 3), padding='same')(model)\n",
    "model = layers.Activation('relu')(model)\n",
    "\n",
    "model = layers.GlobalAveragePooling2D()(model)\n",
    "model = layers.Dense(32)(model)\n",
    "model = layers.Activation('relu')(model)\n",
    "model = layers.Dense(10)(model)\n",
    "output_img = layers.Activation('softmax')(model)\n",
    "\n",
    "model = models.Model(input_img, output_img)\n",
    "\n",
    "model.summary()"
   ]
  },
  {
   "cell_type": "markdown",
   "metadata": {},
   "source": [
    "## Training and Testing"
   ]
  },
  {
   "cell_type": "code",
   "execution_count": 33,
   "metadata": {},
   "outputs": [],
   "source": [
    "train_images = train_images.reshape(60000, 28, 28, 1).astype('float32') / 255.0\n",
    "test_images = test_images.reshape(10000, 28, 28, 1).astype('float32') / 255.0\n",
    "\n",
    "train_labels = tf.keras.utils.to_categorical(train_labels, 10)\n",
    "test_labels = tf.keras.utils.to_categorical(test_labels, 10)"
   ]
  },
  {
   "cell_type": "code",
   "execution_count": 34,
   "metadata": {},
   "outputs": [
    {
     "name": "stdout",
     "output_type": "stream",
     "text": [
      "Train on 60000 samples, validate on 10000 samples\n",
      "Epoch 1/10\n",
      "60000/60000 [==============================] - 7s 111us/sample - loss: 0.7041 - accuracy: 0.7724 - val_loss: 0.2633 - val_accuracy: 0.9221\n",
      "Epoch 2/10\n",
      "60000/60000 [==============================] - 6s 105us/sample - loss: 0.2508 - accuracy: 0.9286 - val_loss: 0.2253 - val_accuracy: 0.9324\n",
      "Epoch 3/10\n",
      "60000/60000 [==============================] - 6s 105us/sample - loss: 0.1779 - accuracy: 0.9483 - val_loss: 0.1598 - val_accuracy: 0.9518\n",
      "Epoch 4/10\n",
      "60000/60000 [==============================] - 6s 105us/sample - loss: 0.1375 - accuracy: 0.9591 - val_loss: 0.0998 - val_accuracy: 0.9703\n",
      "Epoch 5/10\n",
      "60000/60000 [==============================] - 6s 102us/sample - loss: 0.1160 - accuracy: 0.9664 - val_loss: 0.1110 - val_accuracy: 0.9668\n",
      "Epoch 6/10\n",
      "60000/60000 [==============================] - 6s 103us/sample - loss: 0.0965 - accuracy: 0.9711 - val_loss: 0.0809 - val_accuracy: 0.9740\n",
      "Epoch 7/10\n",
      "60000/60000 [==============================] - 7s 112us/sample - loss: 0.0831 - accuracy: 0.9745 - val_loss: 0.0617 - val_accuracy: 0.9796\n",
      "Epoch 8/10\n",
      "60000/60000 [==============================] - 6s 107us/sample - loss: 0.0731 - accuracy: 0.9777 - val_loss: 0.0753 - val_accuracy: 0.9756\n",
      "Epoch 9/10\n",
      "60000/60000 [==============================] - 6s 108us/sample - loss: 0.0659 - accuracy: 0.9795 - val_loss: 0.0479 - val_accuracy: 0.9845\n",
      "Epoch 10/10\n",
      "60000/60000 [==============================] - 6s 103us/sample - loss: 0.0581 - accuracy: 0.9828 - val_loss: 0.0732 - val_accuracy: 0.9775\n"
     ]
    }
   ],
   "source": [
    "adam = optimizers.Adam(lr=0.0001)\n",
    "model.compile(adam, loss='categorical_crossentropy', metrics=[\"accuracy\"])\n",
    "\n",
    "history = model.fit(train_images, train_labels, epochs=10, \n",
    "                    validation_data=(test_images, test_labels))"
   ]
  },
  {
   "cell_type": "code",
   "execution_count": 35,
   "metadata": {},
   "outputs": [
    {
     "data": {
      "text/plain": [
       "<matplotlib.legend.Legend at 0x7f2a8c197050>"
      ]
     },
     "execution_count": 35,
     "metadata": {},
     "output_type": "execute_result"
    },
    {
     "data": {
      "image/png": "[encoded data removed]",
      "text/plain": [
       "<Figure size 432x288 with 1 Axes>"
      ]
     },
     "metadata": {
      "needs_background": "light"
     },
     "output_type": "display_data"
    }
   ],
   "source": [
    "plt.plot(history.history['accuracy'], label='accuracy')\n",
    "plt.plot(history.history['val_accuracy'], label='val_accuracy')\n",
    "plt.xlabel('Epoch')\n",
    "plt.ylabel('Accuracy')\n",
    "plt.ylim([0.7, 1])\n",
    "plt.legend(loc='best')"
   ]
  },
  {
   "cell_type": "code",
   "execution_count": 36,
   "metadata": {},
   "outputs": [
    {
     "data": {
      "text/plain": [
       "<matplotlib.legend.Legend at 0x7f2a8c151110>"
      ]
     },
     "execution_count": 36,
     "metadata": {},
     "output_type": "execute_result"
    },
    {
     "data": {
      "image/png": "[encoded data removed]",
      "text/plain": [
       "<Figure size 432x288 with 1 Axes>"
      ]
     },
     "metadata": {
      "needs_background": "light"
     },
     "output_type": "display_data"
    }
   ],
   "source": [
    "plt.plot(history.history['loss'], label='loss')\n",
    "plt.plot(history.history['val_loss'], label='val_loss')\n",
    "plt.xlabel('Epoch')\n",
    "plt.ylabel('Loss')\n",
    "plt.legend(loc='best')"
   ]
  },
  {
   "cell_type": "code",
   "execution_count": 37,
   "metadata": {},
   "outputs": [
    {
     "name": "stdout",
     "output_type": "stream",
     "text": [
      "10000/1 - 0s - loss: 0.0369 - accuracy: 0.9775\n",
      "\n",
      "Test accuracy = 97.75%\n"
     ]
    }
   ],
   "source": [
    "test_loss, test_accuracy = model.evaluate(test_images,  test_labels, verbose=2)\n",
    "\n",
    "print('\\nTest accuracy = {0:.2f}%'.format(test_accuracy*100.0))"
   ]
  },
  {
   "cell_type": "markdown",
   "metadata": {},
   "source": []
  }
 ],
 "metadata": {
  "kernelspec": {
   "display_name": "YP: TensorFlow-GPU",
   "language": "python",
   "name": "yp-tfgpu"
  },
  "language_info": {
   "codemirror_mode": {
    "name": "ipython",
    "version": 3
   },
   "file_extension": ".py",
   "mimetype": "text/x-python",
   "name": "python",
   "nbconvert_exporter": "python",
   "pygments_lexer": "ipython3",
   "version": "3.7.6"
  }
 },
 "nbformat": 4,
 "nbformat_minor": 4
}
